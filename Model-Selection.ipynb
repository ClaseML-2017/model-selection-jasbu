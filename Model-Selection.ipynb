{
 "cells": [
  {
   "cell_type": "code",
   "execution_count": 88,
   "metadata": {
    "collapsed": true
   },
   "outputs": [],
   "source": [
    "from sklearn.model_selection import train_test_split\n",
    "from sklearn.linear_model import LinearRegression\n",
    "from sklearn import preprocessing\n",
    "import matplotlib.pyplot as plt\n",
    "import random as rnd\n",
    "import pandas as pd\n",
    "import numpy as np\n",
    "import csv\n",
    "\n",
    "%matplotlib inline"
   ]
  },
  {
   "cell_type": "markdown",
   "metadata": {
    "collapsed": true
   },
   "source": [
    "# Datos RegLinPoli2"
   ]
  },
  {
   "cell_type": "code",
   "execution_count": 89,
   "metadata": {
    "collapsed": true
   },
   "outputs": [],
   "source": [
    "Location = r'C:\\Users\\ThinkYoga\\Desktop\\ml17\\reglin\\regLinPoli2.csv'\n",
    "df = pd.read_csv(Location)"
   ]
  },
  {
   "cell_type": "code",
   "execution_count": 90,
   "metadata": {
    "collapsed": true
   },
   "outputs": [],
   "source": [
    "# Separate both train and test as well as the response variable\n",
    "index=np.array([1 if np.random.random() < 0.75 else 0 for i in range(len(df))])\n",
    "X_train=np.array(df[df.columns[0:-1]])[index==1]\n",
    "Y_train=np.array(df[df.columns[-1]])[index==1]\n",
    "X_test=np.array(df[df.columns[0:-1]])[index==0]\n",
    "Y_test=np.array(df[df.columns[-1]])[index==0]\n",
    "train=np.array(df)[index==1]"
   ]
  },
  {
   "cell_type": "code",
   "execution_count": 91,
   "metadata": {},
   "outputs": [],
   "source": [
    "#Normalizamos X\n",
    "scaler = preprocessing.StandardScaler().fit(train)\n",
    "train = scaler.transform(train)"
   ]
  },
  {
   "cell_type": "code",
   "execution_count": 92,
   "metadata": {
    "collapsed": true
   },
   "outputs": [],
   "source": [
    "def RegLinLMSmatReg(X,Y,W,eta,lam):\n",
    "    for i in range(len(X)):\n",
    "        Vxi = np.dot(W,np.insert(X_train[i],0,1))\n",
    "        error = Y[i] - Vxi\n",
    "        W = W + (eta * error) * np.insert(X[i],0,1) - lam*W\n",
    "\n",
    "    return W"
   ]
  },
  {
   "cell_type": "code",
   "execution_count": 93,
   "metadata": {
    "collapsed": true
   },
   "outputs": [],
   "source": [
    "## Transfer function\n",
    "def salida(w,X):\n",
    "    return X.dot(w[1:]) +w[0]"
   ]
  },
  {
   "cell_type": "code",
   "execution_count": 94,
   "metadata": {
    "collapsed": true
   },
   "outputs": [],
   "source": [
    "## Training function\n",
    "def entrena(X,y,w,la=0.0,eta=0.01):\n",
    "    \n",
    "    for i in range(len(X)):\n",
    "        error=y[i]-salida(w,X[i])\n",
    "        w[0]=w[0]+eta*(error)\n",
    "        w[1:]=w[1:]+eta*(error*X[i])-la*w[1:]\n",
    "    return w"
   ]
  },
  {
   "cell_type": "code",
   "execution_count": 95,
   "metadata": {
    "collapsed": true
   },
   "outputs": [],
   "source": [
    "def calcError(X,y,w,w0):\n",
    "    return np.mean((X.dot(w)+w0-y)**2)"
   ]
  },
  {
   "cell_type": "code",
   "execution_count": 111,
   "metadata": {},
   "outputs": [],
   "source": [
    "def CrossValLambda(dfsplitted,testlam):\n",
    "    ECMmatrix = np.zeros((len(dfsplitted),len(testlam)))\n",
    "    for i in range(len(dfsplitted)):\n",
    "        testtemp=dfsplitted[i]\n",
    "        traintemp=np.delete(dfsplitted,i)\n",
    "        \n",
    "        #Juntamos los subconjuntos sobrantes para formar el training set temporal\n",
    "        traintempf = traintemp[0]\n",
    "        for j in range(1,len(traintemp)):\n",
    "            traintempf=np.concatenate((traintempf,traintemp[j]))\n",
    "\n",
    "        # Separamos el conjunto de entrenamiento y prueba temporales en X y Y\n",
    "        X_traintemp = traintempf[:,range(len(traintempf[0])-1)]\n",
    "        Y_traintemp = traintempf[:,len(traintempf[0])-1]\n",
    "        X_testtemp = testtemp[:,range(len(traintempf[0])-1)]\n",
    "        Y_testtemp = testtemp[:,len(traintempf[0])-1]\n",
    "        \n",
    "        for k in range(len(testlam)):\n",
    "            #W = np.ones(len(X_traintemp[0])+1)\n",
    "            #for l in range(100):\n",
    "            #    W = RegLinLMSmatReg(X_traintemp,Y_traintemp,W,0.1,testlam[k])\n",
    "            W=np.asarray([rnd.random() for m in range(1+len(X_traintemp[0]))])\n",
    "            for l in range(100):\n",
    "                W=entrena(X_traintemp,Y_traintemp,W,testlam[k])\n",
    "\n",
    "            ECMmatrix[i][k] = calcError(X_testtemp,Y_testtemp,W[1:],W[0])\n",
    "\n",
    "    \n",
    "    return ECMmatrix"
   ]
  },
  {
   "cell_type": "code",
   "execution_count": 97,
   "metadata": {},
   "outputs": [],
   "source": [
    "np.random.seed(42)\n",
    "np.random.shuffle(train)\n",
    "train_split = np.array_split(train,10)"
   ]
  },
  {
   "cell_type": "code",
   "execution_count": 114,
   "metadata": {},
   "outputs": [
    {
     "data": {
      "text/plain": [
       "array([[ 0.58864966,  0.98343455,  1.026029  ,  1.04959315],\n",
       "       [ 0.64093592,  1.09425836,  1.1690782 ,  1.2270241 ],\n",
       "       [ 0.43498941,  0.54073663,  0.5685176 ,  0.587     ],\n",
       "       [ 0.51101543,  0.95008006,  1.00366932,  1.04191338],\n",
       "       [ 0.7171659 ,  1.04562205,  1.0889841 ,  1.12053365],\n",
       "       [ 0.54988222,  0.92558056,  0.96885504,  0.99968879],\n",
       "       [ 0.61378143,  0.92956678,  0.96085985,  0.98395922],\n",
       "       [ 0.54314342,  0.85935545,  0.89134363,  0.91254926],\n",
       "       [ 0.53849865,  0.88117403,  0.93943404,  0.98430926],\n",
       "       [ 0.54417557,  0.46381934,  0.46548477,  0.46974189]])"
      ]
     },
     "execution_count": 114,
     "metadata": {},
     "output_type": "execute_result"
    }
   ],
   "source": [
    "# Regresamos una matriz con los errores en cada iteración para los respectivos valores de lambda\n",
    "ECMmatrixLambdas = CrossValLambda(train_split,[0.0,0.05,0.1,0.2])\n",
    "ECMmatrixLambdas"
   ]
  },
  {
   "cell_type": "markdown",
   "metadata": {},
   "source": [
    "## Vemos que la media de los errores para lambda = 0 es la menor"
   ]
  },
  {
   "cell_type": "code",
   "execution_count": 115,
   "metadata": {},
   "outputs": [
    {
     "data": {
      "text/plain": [
       "array([ 0.56822376,  0.86736278,  0.90822555,  0.93763127])"
      ]
     },
     "execution_count": 115,
     "metadata": {},
     "output_type": "execute_result"
    }
   ],
   "source": [
    "ECMmatrixLambdas.mean(0)"
   ]
  },
  {
   "cell_type": "code",
   "execution_count": null,
   "metadata": {
    "collapsed": true
   },
   "outputs": [],
   "source": []
  }
 ],
 "metadata": {
  "kernelspec": {
   "display_name": "Python 2",
   "language": "python",
   "name": "python2"
  },
  "language_info": {
   "codemirror_mode": {
    "name": "ipython",
    "version": 2
   },
   "file_extension": ".py",
   "mimetype": "text/x-python",
   "name": "python",
   "nbconvert_exporter": "python",
   "pygments_lexer": "ipython2",
   "version": "2.7.13"
  }
 },
 "nbformat": 4,
 "nbformat_minor": 2
}
